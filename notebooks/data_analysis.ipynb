{
  "cells": [
    {
      "cell_type": "raw",
      "metadata": {
        "vscode": {
          "languageId": "raw"
        }
      },
      "source": [
        "# Data Analysis for RL Filling Control System\n",
        "\n",
        "This notebook provides two key visualizations:\n",
        "\n",
        "1. **Cluster Histogram**: Distribution of switching points across filling sessions\n",
        "2. **Weight Count Histogram**: Frequency distribution of all weights in the dataset\n"
      ]
    },
    {
      "cell_type": "code",
      "execution_count": null,
      "metadata": {},
      "outputs": [],
      "source": [
        "# Import required libraries\n",
        "import sys\n",
        "import matplotlib.pyplot as plt\n",
        "import numpy as np\n",
        "from collections import Counter\n",
        "\n",
        "# Add src directory to path to import our modules\n",
        "sys.path.append('../src')\n",
        "from data_processor import DataProcessor\n",
        "\n",
        "# Setup plotting style\n",
        "plt.rcParams['figure.figsize'] = (12, 8)\n",
        "plt.rcParams['figure.dpi'] = 300\n"
      ]
    },
    {
      "cell_type": "code",
      "execution_count": null,
      "metadata": {},
      "outputs": [],
      "source": [
        "# Load and process the data\n",
        "data_processor = DataProcessor(\"../data/data.xlsx\")\n",
        "data_processor.load_data()\n",
        "sessions = data_processor.sessions\n",
        "\n",
        "print(f\"Data loaded: {len(sessions)} sessions\")\n"
      ]
    },
    {
      "cell_type": "raw",
      "metadata": {
        "vscode": {
          "languageId": "raw"
        }
      },
      "source": [
        "## 1. Cluster Histogram\n"
      ]
    },
    {
      "cell_type": "code",
      "execution_count": null,
      "metadata": {},
      "outputs": [],
      "source": [
        "# Plot 1: Cluster Histogram\n",
        "switch_points = [s.switch_point for s in sessions if s.switch_point is not None]\n",
        "\n",
        "plt.figure(figsize=(12, 8))\n",
        "plt.hist(switch_points, bins=20, alpha=0.7, color='skyblue', edgecolor='navy')\n",
        "plt.title('Distribution of Switching Points', fontsize=16, fontweight='bold')\n",
        "plt.xlabel('Switching Point', fontsize=14)\n",
        "plt.ylabel('Number of Sessions', fontsize=14)\n",
        "plt.grid(True, alpha=0.3)\n",
        "plt.tight_layout()\n",
        "plt.savefig(\"cluster_histogram.png\", dpi=300, bbox_inches='tight')\n",
        "plt.show()\n"
      ]
    },
    {
      "cell_type": "raw",
      "metadata": {
        "vscode": {
          "languageId": "raw"
        }
      },
      "source": [
        "## 2. Weight Count Histogram\n"
      ]
    },
    {
      "cell_type": "code",
      "execution_count": null,
      "metadata": {},
      "outputs": [],
      "source": [
        "# Plot 2: Weight Count Histogram\n",
        "SWITCH_TOKEN = -1\n",
        "TERMINATION_TOKEN = 300\n",
        "\n",
        "# Extract all weights\n",
        "all_weights = []\n",
        "for session in sessions:\n",
        "    for weight in session.weight_sequence:\n",
        "        if weight != SWITCH_TOKEN and weight != TERMINATION_TOKEN:\n",
        "            all_weights.append(weight)\n",
        "\n",
        "# Count occurrences\n",
        "weight_counter = Counter(all_weights)\n",
        "weights = sorted(weight_counter.keys())\n",
        "counts = [weight_counter[w] for w in weights]\n",
        "\n",
        "plt.figure(figsize=(15, 8))\n",
        "plt.bar(weights, counts, alpha=0.7, color='lightcoral', edgecolor='darkred')\n",
        "plt.title('Distribution of Weight Values', fontsize=16, fontweight='bold')\n",
        "plt.xlabel('Weight Value', fontsize=14)\n",
        "plt.ylabel('Frequency', fontsize=14)\n",
        "plt.grid(True, alpha=0.3, axis='y')\n",
        "plt.tight_layout()\n",
        "plt.savefig(\"weight_count_histogram.png\", dpi=300, bbox_inches='tight')\n",
        "plt.show()\n"
      ]
    }
  ],
  "metadata": {
    "kernelspec": {
      "display_name": "resenv",
      "language": "python",
      "name": "python3"
    },
    "language_info": {
      "codemirror_mode": {
        "name": "ipython",
        "version": 3
      },
      "file_extension": ".py",
      "mimetype": "text/x-python",
      "name": "python",
      "nbconvert_exporter": "python",
      "pygments_lexer": "ipython3",
      "version": "3.12.2"
    }
  },
  "nbformat": 4,
  "nbformat_minor": 2
}
